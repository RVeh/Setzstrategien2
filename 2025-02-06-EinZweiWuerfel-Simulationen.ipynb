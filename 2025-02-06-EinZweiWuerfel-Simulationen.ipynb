{
 "cells": [
  {
   "cell_type": "markdown",
   "id": "1d929ebd-5572-4585-9846-ecbb1466745d",
   "metadata": {},
   "source": [
    "# Gewinnwahrscheinlichkeiten - Simulationen\n",
    "\n",
    "Mit dem Programm könenn zum Ein- und Zwei-Würfel-Fall die Gewinnwahrscheinlichkeiten durch Simulationen ermittelt werden. Es kann zwischen den beiden Fällen gewechselt werden.\n",
    "\n",
    "Das Programm ist erweiterbar auf mehr als zwei Würfel (zwei Spieler). Exakte Lösungen sind ab dem Zwei-Würfel-Fall prinzipiell auch möglich. Die Rekursionsformeln mit den zugehörigen Abbruchbedingungen werden aber sehr kompliziert. \n",
    "\n",
    "Simulationen zeigen, dass die Gewinnwahrscheinlichkeiten im Zwei-Würfel-Fall bei fest gewählten Setzstrategien sich deutlich von denen im Ein-Würfel-Fall unterscheiden. Es sollte somit darauf geachtet werden, dass entweder mit einem Würfel oder mit mehreren Würfeln gespielt wird. "
   ]
  },
  {
   "cell_type": "code",
   "execution_count": 14,
   "id": "4d2e53d1-ccdf-4677-a37d-640dbcc51c6c",
   "metadata": {},
   "outputs": [
    {
     "data": {
      "application/vnd.jupyter.widget-view+json": {
       "model_id": "40dca75d1b5d4c178e074c2a791e5c89",
       "version_major": 2,
       "version_minor": 0
      },
      "text/plain": [
       "interactive(children=(IntSlider(value=10000, description='Spiele:', max=100000, min=1000, step=1000), Checkbox…"
      ]
     },
     "metadata": {},
     "output_type": "display_data"
    }
   ],
   "source": [
    "import random\n",
    "import ipywidgets as widgets\n",
    "from IPython.display import display\n",
    "\n",
    "# Beispiel-Chip-Verteilungen und Wahrscheinlichkeiten\n",
    "chips1 = [3, 5, 4, 3, 2, 1]\n",
    "chips2 = [3, 7, 4, 3, 1, 0]\n",
    "probabilities = [3/18, 5/18, 4/18, 3/18, 2/18, 1/18]\n",
    "\n",
    "\n",
    "# Funktion für die Simulation\n",
    "def simulate_competition(chips1, chips2, probabilities1, probabilities2, trials, shared_die):\n",
    "    wins1, wins2, draws = 0, 0, 0\n",
    "    for _ in range(trials):\n",
    "        chips1_current, chips2_current = chips1.copy(), chips2.copy()\n",
    "        while sum(chips1_current) > 0 and sum(chips2_current) > 0:\n",
    "            if shared_die:\n",
    "                spin_result = random.choices(range(len(chips1)), probabilities1)[0]\n",
    "                spin_result1, spin_result2 = spin_result, spin_result\n",
    "            else:\n",
    "                spin_result1 = random.choices(range(len(chips1)), probabilities1)[0]\n",
    "                spin_result2 = random.choices(range(len(chips2)), probabilities2)[0]\n",
    "\n",
    "            if chips1_current[spin_result1] > 0:\n",
    "                chips1_current[spin_result1] -= 1\n",
    "            if chips2_current[spin_result2] > 0:\n",
    "                chips2_current[spin_result2] -= 1\n",
    "\n",
    "        if sum(chips1_current) == 0 and sum(chips2_current) > 0:\n",
    "            wins1 += 1\n",
    "        elif sum(chips2_current) == 0 and sum(chips1_current) > 0:\n",
    "            wins2 += 1\n",
    "        else:\n",
    "            draws += 1\n",
    "    return wins1, wins2, draws\n",
    "\n",
    "\n",
    "# Interaktive Widgets\n",
    "trials_slider = widgets.IntSlider(value=10000, min=1000, max=100000, step=1000, description='Spiele:')\n",
    "shared_die_checkbox = widgets.Checkbox(value=True, description=\"Ein Würfel\")\n",
    "\n",
    "# Funktion zur Durchführung der Simulation mit Widgets\n",
    "def run_simulation(trials, shared_die):\n",
    "    shared_die_bool = shared_die\n",
    "    probabilities1 = probabilities2 = probabilities if shared_die_bool else probabilities\n",
    "    print(f\"\\nSimuliere mit {trials} Versuchen; {'ein Würfel' if shared_die_bool else 'zwei Würfel'}\")\n",
    "    wins1, wins2, draws = simulate_competition(chips1, chips2, probabilities1, probabilities2, trials, shared_die_bool)\n",
    "    total_simulations = wins1 + wins2 + draws\n",
    "    print(f\"Verteilung {chips1} gewinnt {wins1 / total_simulations * 100:.2f}% der Spiele\")\n",
    "    print(f\"Verteilung {chips2} gewinnt {wins2 / total_simulations * 100:.2f}% der Spiele\")\n",
    "    print(f\"Unentschieden: {draws / total_simulations * 100:.2f}% der Spiele\")\n",
    "\n",
    "# Interaktive Anzeige\n",
    "widgets.interactive(run_simulation, trials=trials_slider, shared_die=shared_die_checkbox)"
   ]
  },
  {
   "cell_type": "code",
   "execution_count": null,
   "id": "904e4b62-1bdf-4239-a66c-4f90006b26b5",
   "metadata": {},
   "outputs": [],
   "source": []
  }
 ],
 "metadata": {
  "kernelspec": {
   "display_name": "Python 3 (ipykernel)",
   "language": "python",
   "name": "python3"
  },
  "language_info": {
   "codemirror_mode": {
    "name": "ipython",
    "version": 3
   },
   "file_extension": ".py",
   "mimetype": "text/x-python",
   "name": "python",
   "nbconvert_exporter": "python",
   "pygments_lexer": "ipython3",
   "version": "3.9.7"
  }
 },
 "nbformat": 4,
 "nbformat_minor": 5
}
